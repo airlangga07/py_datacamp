{
 "cells": [
  {
   "cell_type": "markdown",
   "metadata": {},
   "source": [
    "# Introduction to Python for Data Science"
   ]
  },
  {
   "cell_type": "code",
   "execution_count": 6,
   "metadata": {},
   "outputs": [],
   "source": [
    "# Initialize the data\n",
    "import pandas as pd\n",
    "\n",
    "mlb = pd.read_csv('../baseball.csv')\n",
    "height = mlb['Height'].tolist()\n",
    "weight = mlb['Weight'].tolist()"
   ]
  },
  {
   "cell_type": "markdown",
   "metadata": {},
   "source": [
    "## Your first numpy array"
   ]
  },
  {
   "cell_type": "code",
   "execution_count": 7,
   "metadata": {},
   "outputs": [
    {
     "name": "stdout",
     "output_type": "stream",
     "text": [
      "<class 'numpy.ndarray'>\n",
      "<class 'numpy.ndarray'>\n"
     ]
    }
   ],
   "source": [
    "# Initialize the numpy array for height and weight\n",
    "import numpy as np\n",
    "\n",
    "np_height = np.array(height)\n",
    "np_weight = np.array(weight)\n",
    "\n",
    "# Verify if it is a numpy array\n",
    "print(type(np_height))\n",
    "print(type(np_weight))"
   ]
  },
  {
   "cell_type": "markdown",
   "metadata": {},
   "source": [
    "## Numpy array operations"
   ]
  },
  {
   "cell_type": "code",
   "execution_count": 18,
   "metadata": {
    "scrolled": true
   },
   "outputs": [
    {
     "name": "stdout",
     "output_type": "stream",
     "text": [
      "Height: [74 74 72 ..., 75 75 73]\n",
      "Height (kg): [ 1.8796  1.8796  1.8288 ...,  1.905   1.905   1.8542]\n",
      "Weight: [180 215 210 ..., 205 190 195]\n",
      "Weight (kg): [ 81.64656  97.52228  95.25432 ...,  92.98636  86.18248  88.45044]\n",
      "BMI: [ 23.11037639  27.60406069  28.48080465 ...,  25.62295933  23.74810865\n",
      "  25.72686361]\n"
     ]
    }
   ],
   "source": [
    "# Unlike normal Python lists, Numpy Array arithmetic operations work for each of the element\n",
    "# For example, convert the height from inches to meters\n",
    "np_height_m = np_height * 0.0254\n",
    "print('Height:', np_height)\n",
    "print('Height (kg):', np_height_m)\n",
    "\n",
    "# Convert the weight from pounds to kilogram\n",
    "np_weight_kg = np_weight * 0.453592\n",
    "print('Weight:', np_weight)\n",
    "print('Weight (kg):',np_weight_kg)\n",
    "\n",
    "# calculate the BMI = weight / (height * height)\n",
    "np_bmi = np_weight_kg / (np_height_m ** 2)\n",
    "print('BMI:', np_bmi)"
   ]
  },
  {
   "cell_type": "code",
   "execution_count": 17,
   "metadata": {},
   "outputs": [
    {
     "name": "stdout",
     "output_type": "stream",
     "text": [
      "Boolean of BMI < 21: [False False False ..., False False False]\n",
      "Lightweight players: [ 20.54255679  20.54255679  20.69282047  20.69282047  20.34343189\n",
      "  20.34343189  20.69282047  20.15883472  19.4984471   20.69282047\n",
      "  20.9205219 ]\n"
     ]
    }
   ],
   "source": [
    "# You can create an array of boolean by using conditional logic onto the array\n",
    "# lists of boolean where the BMI < 21\n",
    "np_lightweight = np_bmi < 21\n",
    "print('Boolean of BMI < 21:', np_lightweight)\n",
    "\n",
    "# From the numpy array's of boolean, you can use this array to print out the element who passed the boolean array\n",
    "np_bmi_lightweight = np_bmi[np_lightweight]\n",
    "print('Lightweight players:', np_bmi_lightweight)"
   ]
  },
  {
   "cell_type": "markdown",
   "metadata": {},
   "source": [
    "## Numpy two-dimensional array"
   ]
  },
  {
   "cell_type": "code",
   "execution_count": 23,
   "metadata": {},
   "outputs": [
    {
     "name": "stdout",
     "output_type": "stream",
     "text": [
      "[[  1.8796   81.64656]\n",
      " [  1.8796   97.52228]\n",
      " [  1.8288   95.25432]\n",
      " ..., \n",
      " [  1.905    92.98636]\n",
      " [  1.905    86.18248]\n",
      " [  1.8542   88.45044]]\n",
      "<class 'numpy.ndarray'>\n",
      "(1015, 2)\n"
     ]
    }
   ],
   "source": [
    "# you can zip two 1-dimensional arrays into one 2-dimensional array by using python zip builtin function\n",
    "np_baseball = np.array(list(zip(np_height_m, np_weight_kg)))\n",
    "print(np_baseball)\n",
    "\n",
    "# Print out the type of np_baseball\n",
    "print(type(np_baseball))\n",
    "\n",
    "# Print out the shape of np_baseball, (row, column)\n",
    "print(np_baseball.shape)"
   ]
  },
  {
   "cell_type": "code",
   "execution_count": null,
   "metadata": {
    "collapsed": true
   },
   "outputs": [],
   "source": []
  }
 ],
 "metadata": {
  "kernelspec": {
   "display_name": "Python 3",
   "language": "python",
   "name": "python3"
  },
  "language_info": {
   "codemirror_mode": {
    "name": "ipython",
    "version": 3
   },
   "file_extension": ".py",
   "mimetype": "text/x-python",
   "name": "python",
   "nbconvert_exporter": "python",
   "pygments_lexer": "ipython3",
   "version": "3.6.3"
  }
 },
 "nbformat": 4,
 "nbformat_minor": 2
}
