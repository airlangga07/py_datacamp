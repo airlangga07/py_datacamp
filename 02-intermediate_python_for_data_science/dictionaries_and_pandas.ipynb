{
 "cells": [
  {
   "cell_type": "markdown",
   "metadata": {},
   "source": [
    "# Pandas Pt.1"
   ]
  },
  {
   "cell_type": "markdown",
   "metadata": {},
   "source": [
    "## Dictionary to DataFrame"
   ]
  },
  {
   "cell_type": "code",
   "execution_count": 1,
   "metadata": {},
   "outputs": [
    {
     "name": "stdout",
     "output_type": "stream",
     "text": [
      "         country  drives_right  cars_per_cap\n",
      "0  United States          True           809\n",
      "1      Australia         False           731\n",
      "2          Japan         False           588\n",
      "3          India         False            18\n",
      "4         Russia          True           200\n",
      "5        Morocco          True            70\n",
      "6          Egypt          True            45\n"
     ]
    }
   ],
   "source": [
    "# DataFrame is one of the most important data structures\n",
    "# its a way to store tabular data where you can label the rows and columns\n",
    "\n",
    "# import pandas\n",
    "import pandas as pd\n",
    "\n",
    "# we will now constructing the DataFrame from lists to dictionary\n",
    "names = ['United States', 'Australia', 'Japan', 'India', 'Russia', 'Morocco', 'Egypt']\n",
    "dr    = [True, False, False, False, True, True, True]\n",
    "cpc   = [809, 731, 588, 18, 200, 70, 45]\n",
    "\n",
    "# Create dictionary my_dict with three key:value pairs: my_dict\n",
    "my_dict = {\n",
    "    'country': names,\n",
    "    'drives_right': dr,\n",
    "    'cars_per_cap': cpc\n",
    "}\n",
    "\n",
    "# Build a DataFrame from the dictionary\n",
    "cars = pd.DataFrame(my_dict)\n",
    "print(cars)"
   ]
  },
  {
   "cell_type": "code",
   "execution_count": 2,
   "metadata": {},
   "outputs": [
    {
     "name": "stdout",
     "output_type": "stream",
     "text": [
      "           country  drives_right  cars_per_cap\n",
      "US   United States          True           809\n",
      "AUS      Australia         False           731\n",
      "JAP          Japan         False           588\n",
      "IN           India         False            18\n",
      "RU          Russia          True           200\n",
      "MOR        Morocco          True            70\n",
      "EG           Egypt          True            45\n"
     ]
    }
   ],
   "source": [
    "# when you see the above data, the row was set to integer from 0 to 6\n",
    "# we can set the row label using .index property\n",
    "row_labels = ['US', 'AUS', 'JAP', 'IN', 'RU', 'MOR', 'EG']\n",
    "cars.index = row_labels\n",
    "\n",
    "print(cars)"
   ]
  },
  {
   "cell_type": "markdown",
   "metadata": {},
   "source": [
    "## CSV to DataFrame"
   ]
  },
  {
   "cell_type": "code",
   "execution_count": 3,
   "metadata": {},
   "outputs": [
    {
     "name": "stdout",
     "output_type": "stream",
     "text": [
      "  Unnamed: 0  cars_per_cap        country  drives_right\n",
      "0         US           809  United States          True\n",
      "1        AUS           731      Australia         False\n",
      "2        JAP           588          Japan         False\n",
      "3         IN            18          India         False\n",
      "4         RU           200         Russia          True\n",
      "5        MOR            70        Morocco          True\n",
      "6         EG            45          Egypt          True\n"
     ]
    }
   ],
   "source": [
    "# importing CSV data into Python using read_csv()\n",
    "cars = pd.read_csv('datasets/cars.csv')\n",
    "print(cars)"
   ]
  },
  {
   "cell_type": "code",
   "execution_count": 4,
   "metadata": {},
   "outputs": [
    {
     "name": "stdout",
     "output_type": "stream",
     "text": [
      "     cars_per_cap        country  drives_right\n",
      "US            809  United States          True\n",
      "AUS           731      Australia         False\n",
      "JAP           588          Japan         False\n",
      "IN             18          India         False\n",
      "RU            200         Russia          True\n",
      "MOR            70        Morocco          True\n",
      "EG             45          Egypt          True\n"
     ]
    }
   ],
   "source": [
    "# we need to fix the index to not 0 - 6 but on the first column\n",
    "cars = pd.read_csv('datasets/cars.csv', index_col=0)\n",
    "print(cars)"
   ]
  },
  {
   "cell_type": "markdown",
   "metadata": {},
   "source": [
    "# Pandas Pt.2"
   ]
  },
  {
   "cell_type": "markdown",
   "metadata": {},
   "source": [
    "## Slicing and selecting DataFrames with square brackets"
   ]
  },
  {
   "cell_type": "code",
   "execution_count": 5,
   "metadata": {},
   "outputs": [
    {
     "name": "stdout",
     "output_type": "stream",
     "text": [
      "US     United States\n",
      "AUS        Australia\n",
      "JAP            Japan\n",
      "IN             India\n",
      "RU            Russia\n",
      "MOR          Morocco\n",
      "EG             Egypt\n",
      "Name: country, dtype: object\n",
      "           country\n",
      "US   United States\n",
      "AUS      Australia\n",
      "JAP          Japan\n",
      "IN           India\n",
      "RU          Russia\n",
      "MOR        Morocco\n",
      "EG           Egypt\n",
      "           country  drives_right\n",
      "US   United States          True\n",
      "AUS      Australia         False\n",
      "JAP          Japan         False\n",
      "IN           India         False\n",
      "RU          Russia          True\n",
      "MOR        Morocco          True\n",
      "EG           Egypt          True\n",
      "     cars_per_cap        country  drives_right\n",
      "US            809  United States          True\n",
      "AUS           731      Australia         False\n",
      "JAP           588          Japan         False\n",
      "     cars_per_cap  country  drives_right\n",
      "IN             18    India         False\n",
      "RU            200   Russia          True\n",
      "MOR            70  Morocco          True\n"
     ]
    }
   ],
   "source": [
    "# using square brackets is the simplest selection method\n",
    "# Print out country column as Pandas Series\n",
    "print(cars['country'])\n",
    "\n",
    "# Print out country column as Pandas DataFrame\n",
    "print(cars[['country']])\n",
    "\n",
    "# Seleting 2 columns is easy\n",
    "print(cars[['country', 'drives_right']])\n",
    "\n",
    "# selecting rows (or observations) is also easy, with single brackets you will get the DataFrame\n",
    "# do note that you can only select rows using square brackets if you specify a slice and integer indexes\n",
    "print(cars[:3])\n",
    "\n",
    "# print the rest of the rows\n",
    "print(cars[3:6])"
   ]
  },
  {
   "cell_type": "markdown",
   "metadata": {},
   "source": [
    "## loc and iloc"
   ]
  },
  {
   "cell_type": "code",
   "execution_count": 13,
   "metadata": {},
   "outputs": [
    {
     "name": "stdout",
     "output_type": "stream",
     "text": [
      "     cars_per_cap country  drives_right\n",
      "JAP           588   Japan         False\n",
      "     cars_per_cap    country  drives_right\n",
      "AUS           731  Australia         False\n",
      "EG             45      Egypt          True\n",
      "     drives_right\n",
      "MOR          True\n",
      "18\n",
      "    cars_per_cap\n",
      "IN            18\n",
      "     country  drives_right\n",
      "RU    Russia          True\n",
      "MOR  Morocco          True\n",
      "    cars_per_cap country\n",
      "IN            18   India\n",
      "RU           200  Russia\n"
     ]
    }
   ],
   "source": [
    "# loc and iloc can help you to do any data selection\n",
    "# loc is label based\n",
    "# iloc is index based\n",
    "\n",
    "# Print out observation for Japan\n",
    "print(cars.loc[['JAP']])\n",
    "\n",
    "# selecting two observation\n",
    "print(cars.loc[['AUS', 'EG']])\n",
    "\n",
    "# 2D selection array\n",
    "print(cars.loc[['MOR'], ['drives_right']])\n",
    "\n",
    "# selecting a value\n",
    "print(cars.loc['IN', 'cars_per_cap'])\n",
    "\n",
    "# Selecting DataFrame\n",
    "print(cars.loc[['IN'], ['cars_per_cap']])\n",
    "\n",
    "# Print sub-DataFrame\n",
    "print(cars.loc[['RU', 'MOR'], ['country', 'drives_right']])\n",
    "\n",
    "# Print sub-DataFrame with index\n",
    "print(cars.iloc[[3, 4], [0, 1]])"
   ]
  },
  {
   "cell_type": "code",
   "execution_count": 16,
   "metadata": {},
   "outputs": [
    {
     "name": "stdout",
     "output_type": "stream",
     "text": [
      "US      True\n",
      "AUS    False\n",
      "JAP    False\n",
      "IN     False\n",
      "RU      True\n",
      "MOR     True\n",
      "EG      True\n",
      "Name: drives_right, dtype: bool\n",
      "     drives_right\n",
      "US           True\n",
      "AUS         False\n",
      "JAP         False\n",
      "IN          False\n",
      "RU           True\n",
      "MOR          True\n",
      "EG           True\n",
      "     drives_right  cars_per_cap\n",
      "US           True           809\n",
      "AUS         False           731\n",
      "JAP         False           588\n",
      "IN          False            18\n",
      "RU           True           200\n",
      "MOR          True            70\n",
      "EG           True            45\n"
     ]
    }
   ],
   "source": [
    "# Selecting all rows but with specified column can be done with a colon\n",
    "# as Pandas Series\n",
    "print(cars.loc[:, 'drives_right'])\n",
    "\n",
    "# as Pandas DataType\n",
    "print(cars.loc[:, ['drives_right']])\n",
    "\n",
    "# selecting 2 columns\n",
    "print(cars.loc[:, ['drives_right', 'cars_per_cap']])"
   ]
  },
  {
   "cell_type": "code",
   "execution_count": null,
   "metadata": {},
   "outputs": [],
   "source": []
  }
 ],
 "metadata": {
  "kernelspec": {
   "display_name": "Python 3",
   "language": "python",
   "name": "python3"
  },
  "language_info": {
   "codemirror_mode": {
    "name": "ipython",
    "version": 3
   },
   "file_extension": ".py",
   "mimetype": "text/x-python",
   "name": "python",
   "nbconvert_exporter": "python",
   "pygments_lexer": "ipython3",
   "version": "3.6.6"
  }
 },
 "nbformat": 4,
 "nbformat_minor": 2
}
