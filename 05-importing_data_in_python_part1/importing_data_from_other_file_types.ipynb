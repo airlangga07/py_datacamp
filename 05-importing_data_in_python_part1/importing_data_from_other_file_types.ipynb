{
 "cells": [
  {
   "cell_type": "markdown",
   "metadata": {},
   "source": [
    "### loading a pickled file"
   ]
  },
  {
   "cell_type": "code",
   "execution_count": 4,
   "metadata": {},
   "outputs": [
    {
     "name": "stdout",
     "output_type": "stream",
     "text": [
      "{'Aug': '85', 'Airline': '8', 'June': '69.4', 'Mar': '84.4'}\n",
      "<class 'dict'>\n"
     ]
    }
   ],
   "source": [
    "# if you want to be able to import dictionaries data structure \n",
    "# in Python, you can serialize them. All this means is converting the \n",
    "# object into a sequence of bytes, or a bytestream.\n",
    "# in this exercise you will be importing pickle package\n",
    "import pickle\n",
    "\n",
    "# open pickle file and load data: \n",
    "with open('datasets/data.pkl', 'rb') as file:\n",
    "    d = pickle.load(file)\n",
    "\n",
    "# print d\n",
    "print(d)\n",
    "\n",
    "# print datatype of d\n",
    "print(type(d))"
   ]
  },
  {
   "cell_type": "markdown",
   "metadata": {},
   "source": [
    "### listing sheets in Excel files"
   ]
  },
  {
   "cell_type": "code",
   "execution_count": 5,
   "metadata": {},
   "outputs": [
    {
     "name": "stdout",
     "output_type": "stream",
     "text": [
      "['2002', '2004']\n"
     ]
    }
   ],
   "source": [
    "# in this exercise you will learn how to use pandas to import Excel\n",
    "# spreadsheets, and how to list the names of the sheets in any loaded\n",
    "# .xslx file\n",
    "import pandas as pd\n",
    "\n",
    "# assign spreadsheet filename\n",
    "file = 'datasets/battledeath.xlsx'\n",
    "\n",
    "# load spreadsheet\n",
    "xl = pd.ExcelFile(file)\n",
    "\n",
    "# print the sheet name\n",
    "print(xl.sheet_names)"
   ]
  },
  {
   "cell_type": "markdown",
   "metadata": {},
   "source": [
    "### importing sheets from Excel files"
   ]
  },
  {
   "cell_type": "code",
   "execution_count": 7,
   "metadata": {},
   "outputs": [
    {
     "name": "stdout",
     "output_type": "stream",
     "text": [
      "['2002', '2004']\n",
      "  War(country)      2004\n",
      "0  Afghanistan  9.451028\n",
      "1      Albania  0.130354\n",
      "2      Algeria  3.407277\n",
      "3      Andorra  0.000000\n",
      "4       Angola  2.597931\n",
      "  War, age-adjusted mortality due to       2002\n",
      "0                        Afghanistan  36.083990\n",
      "1                            Albania   0.128908\n",
      "2                            Algeria  18.314120\n",
      "3                            Andorra   0.000000\n",
      "4                             Angola  18.964560\n"
     ]
    }
   ],
   "source": [
    "# the next step is to import these, you will be able to do so by specifying\n",
    "# either the sheet's naem or its index\n",
    "import pandas as pd\n",
    "\n",
    "# assign spreadsheet filename\n",
    "file = 'datasets/battledeath.xlsx'\n",
    "\n",
    "# load spreadsheet\n",
    "xl = pd.ExcelFile(file)\n",
    "\n",
    "# print the sheet name\n",
    "print(xl.sheet_names)\n",
    "\n",
    "# load the sheet into a DataFrame\n",
    "df1 = xl.parse('2004')\n",
    "\n",
    "# print the head of the DataFrame df1\n",
    "print(df1.head())\n",
    "\n",
    "# load another sheet into a DataFrame\n",
    "df2 = xl.parse(0)\n",
    "\n",
    "# print the head of the DataFrame df2\n",
    "print(df2.head())"
   ]
  },
  {
   "cell_type": "markdown",
   "metadata": {},
   "source": [
    "### customizing your spreadsheet import"
   ]
  },
  {
   "cell_type": "code",
   "execution_count": 29,
   "metadata": {},
   "outputs": [
    {
     "name": "stdout",
     "output_type": "stream",
     "text": [
      "               Country  AAM due to War (2002)\n",
      "0              Albania               0.128908\n",
      "1              Algeria              18.314120\n",
      "2              Andorra               0.000000\n",
      "3               Angola              18.964560\n",
      "4  Antigua and Barbuda               0.000000\n",
      "          War(country)      2004\n",
      "0              Albania  0.130354\n",
      "1              Algeria  3.407277\n",
      "2              Andorra  0.000000\n",
      "3               Angola  2.597931\n",
      "4  Antigua and Barbuda  0.000000\n"
     ]
    }
   ],
   "source": [
    "# here you will parse your spreadsheet and use additional arguments \n",
    "# to skip rows, rename columns and select only particular columns.\n",
    "import pandas as pd\n",
    "\n",
    "# assign spreadsheet filename\n",
    "file = 'datasets/battledeath.xlsx'\n",
    "\n",
    "# load spreadsheet\n",
    "xl = pd.ExcelFile(file)\n",
    "\n",
    "# parse the first sheet and rename the columns\n",
    "df1 = xl.parse(0, skiprows=[1], names=['Country', 'AAM due to War (2002)'])\n",
    "\n",
    "# print the head of the DataFrame df1\n",
    "print(df1.head())\n",
    "\n",
    "# parse the first col of the second sheet and rename the col: df2\n",
    "df2 = xl.parse(1, parse_cols=[0], skiprows=[1])\n",
    "\n",
    "# print the head of the DataFrame\n",
    "print(df2.head())"
   ]
  },
  {
   "cell_type": "code",
   "execution_count": null,
   "metadata": {},
   "outputs": [],
   "source": []
  }
 ],
 "metadata": {
  "kernelspec": {
   "display_name": "Python 3",
   "language": "python",
   "name": "python3"
  },
  "language_info": {
   "codemirror_mode": {
    "name": "ipython",
    "version": 3
   },
   "file_extension": ".py",
   "mimetype": "text/x-python",
   "name": "python",
   "nbconvert_exporter": "python",
   "pygments_lexer": "ipython3",
   "version": "3.6.6"
  }
 },
 "nbformat": 4,
 "nbformat_minor": 2
}
