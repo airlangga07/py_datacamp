{
 "cells": [
  {
   "cell_type": "markdown",
   "metadata": {},
   "source": [
    "### loading a pickled file"
   ]
  },
  {
   "cell_type": "code",
   "execution_count": 4,
   "metadata": {},
   "outputs": [
    {
     "name": "stdout",
     "output_type": "stream",
     "text": [
      "{'Aug': '85', 'Airline': '8', 'June': '69.4', 'Mar': '84.4'}\n",
      "<class 'dict'>\n"
     ]
    }
   ],
   "source": [
    "# if you want to be able to import dictionaries data structure \n",
    "# in Python, you can serialize them. All this means is converting the \n",
    "# object into a sequence of bytes, or a bytestream.\n",
    "# in this exercise you will be importing pickle package\n",
    "import pickle\n",
    "\n",
    "# open pickle file and load data: \n",
    "with open('datasets/data.pkl', 'rb') as file:\n",
    "    d = pickle.load(file)\n",
    "\n",
    "# print d\n",
    "print(d)\n",
    "\n",
    "# print datatype of d\n",
    "print(type(d))"
   ]
  },
  {
   "cell_type": "markdown",
   "metadata": {},
   "source": [
    "### listing sheets in Excel files"
   ]
  },
  {
   "cell_type": "code",
   "execution_count": 5,
   "metadata": {},
   "outputs": [
    {
     "name": "stdout",
     "output_type": "stream",
     "text": [
      "['2002', '2004']\n"
     ]
    }
   ],
   "source": [
    "# in this exercise you will learn how to use pandas to import Excel\n",
    "# spreadsheets, and how to list the names of the sheets in any loaded\n",
    "# .xslx file\n",
    "import pandas as pd\n",
    "\n",
    "# assign spreadsheet filename\n",
    "file = 'datasets/battledeath.xlsx'\n",
    "\n",
    "# load spreadsheet\n",
    "xl = pd.ExcelFile(file)\n",
    "\n",
    "# print the sheet name\n",
    "print(xl.sheet_names)"
   ]
  },
  {
   "cell_type": "markdown",
   "metadata": {},
   "source": [
    "### importing sheets from Excel files"
   ]
  },
  {
   "cell_type": "code",
   "execution_count": 7,
   "metadata": {},
   "outputs": [
    {
     "name": "stdout",
     "output_type": "stream",
     "text": [
      "['2002', '2004']\n",
      "  War(country)      2004\n",
      "0  Afghanistan  9.451028\n",
      "1      Albania  0.130354\n",
      "2      Algeria  3.407277\n",
      "3      Andorra  0.000000\n",
      "4       Angola  2.597931\n",
      "  War, age-adjusted mortality due to       2002\n",
      "0                        Afghanistan  36.083990\n",
      "1                            Albania   0.128908\n",
      "2                            Algeria  18.314120\n",
      "3                            Andorra   0.000000\n",
      "4                             Angola  18.964560\n"
     ]
    }
   ],
   "source": [
    "# the next step is to import these, you will be able to do so by specifying\n",
    "# either the sheet's naem or its index\n",
    "import pandas as pd\n",
    "\n",
    "# assign spreadsheet filename\n",
    "file = 'datasets/battledeath.xlsx'\n",
    "\n",
    "# load spreadsheet\n",
    "xl = pd.ExcelFile(file)\n",
    "\n",
    "# print the sheet name\n",
    "print(xl.sheet_names)\n",
    "\n",
    "# load the sheet into a DataFrame\n",
    "df1 = xl.parse('2004')\n",
    "\n",
    "# print the head of the DataFrame df1\n",
    "print(df1.head())\n",
    "\n",
    "# load another sheet into a DataFrame\n",
    "df2 = xl.parse(0)\n",
    "\n",
    "# print the head of the DataFrame df2\n",
    "print(df2.head())"
   ]
  },
  {
   "cell_type": "markdown",
   "metadata": {},
   "source": [
    "### customizing your spreadsheet import"
   ]
  },
  {
   "cell_type": "code",
   "execution_count": 29,
   "metadata": {},
   "outputs": [
    {
     "name": "stdout",
     "output_type": "stream",
     "text": [
      "               Country  AAM due to War (2002)\n",
      "0              Albania               0.128908\n",
      "1              Algeria              18.314120\n",
      "2              Andorra               0.000000\n",
      "3               Angola              18.964560\n",
      "4  Antigua and Barbuda               0.000000\n",
      "          War(country)      2004\n",
      "0              Albania  0.130354\n",
      "1              Algeria  3.407277\n",
      "2              Andorra  0.000000\n",
      "3               Angola  2.597931\n",
      "4  Antigua and Barbuda  0.000000\n"
     ]
    }
   ],
   "source": [
    "# here you will parse your spreadsheet and use additional arguments \n",
    "# to skip rows, rename columns and select only particular columns.\n",
    "import pandas as pd\n",
    "\n",
    "# assign spreadsheet filename\n",
    "file = 'datasets/battledeath.xlsx'\n",
    "\n",
    "# load spreadsheet\n",
    "xl = pd.ExcelFile(file)\n",
    "\n",
    "# parse the first sheet and rename the columns\n",
    "df1 = xl.parse(0, skiprows=[1], names=['Country', 'AAM due to War (2002)'])\n",
    "\n",
    "# print the head of the DataFrame df1\n",
    "print(df1.head())\n",
    "\n",
    "# parse the first col of the second sheet and rename the col: df2\n",
    "df2 = xl.parse(1, parse_cols=[0], skiprows=[1])\n",
    "\n",
    "# print the head of the DataFrame\n",
    "print(df2.head())"
   ]
  },
  {
   "cell_type": "markdown",
   "metadata": {},
   "source": [
    "### importing SAS Files"
   ]
  },
  {
   "cell_type": "code",
   "execution_count": 2,
   "metadata": {},
   "outputs": [
    {
     "name": "stdout",
     "output_type": "stream",
     "text": [
      "     YEAR     P           S\n",
      "0  1950.0  12.9  181.899994\n",
      "1  1951.0  11.9  245.000000\n",
      "2  1952.0  10.7  250.199997\n",
      "3  1953.0  11.3  265.899994\n",
      "4  1954.0  11.2  248.500000\n"
     ]
    },
    {
     "data": {
      "image/png": "[encoded data removed]",
      "text/plain": [
       "<Figure size 432x288 with 1 Axes>"
      ]
     },
     "metadata": {},
     "output_type": "display_data"
    }
   ],
   "source": [
    "# in this exercise you will figure out to import SAS files (Statistical Analysis Software)\n",
    "# as a DataFrame, you need to import the sas7bdat module to the python script first\n",
    "import pandas as pd\n",
    "import matplotlib.pyplot as plt\n",
    "from sas7bdat import SAS7BDAT\n",
    "\n",
    "# set the file name\n",
    "bdat_file = 'datasets/sales.sas7bdat'\n",
    "\n",
    "# save file to a DataFrame\n",
    "with SAS7BDAT(bdat_file) as file:\n",
    "    df_sas = file.to_data_frame()\n",
    "\n",
    "# print the head of the DataFrame\n",
    "print(df_sas.head())\n",
    "\n",
    "# print histogram of DataFrame features\n",
    "pd.DataFrame.hist(df_sas[['P']])\n",
    "plt.ylabel('count')\n",
    "plt.show()"
   ]
  },
  {
   "cell_type": "markdown",
   "metadata": {},
   "source": [
    "### using read_stata to import Stata files"
   ]
  },
  {
   "cell_type": "code",
   "execution_count": 5,
   "metadata": {},
   "outputs": [
    {
     "name": "stdout",
     "output_type": "stream",
     "text": [
      "  wbcode               country  disa1  disa2  disa3  disa4  disa5  disa6  \\\n",
      "0    AFG           Afghanistan   0.00   0.00   0.76   0.73    0.0   0.00   \n",
      "1    AGO                Angola   0.32   0.02   0.56   0.00    0.0   0.00   \n",
      "2    ALB               Albania   0.00   0.00   0.02   0.00    0.0   0.00   \n",
      "3    ARE  United Arab Emirates   0.00   0.00   0.00   0.00    0.0   0.00   \n",
      "4    ARG             Argentina   0.00   0.24   0.24   0.00    0.0   0.23   \n",
      "\n",
      "   disa7  disa8   ...    disa16  disa17  disa18  disa19  disa20  disa21  \\\n",
      "0   0.00    0.0   ...       0.0     0.0     0.0    0.00    0.00     0.0   \n",
      "1   0.56    0.0   ...       0.0     0.4     0.0    0.61    0.00     0.0   \n",
      "2   0.00    0.0   ...       0.0     0.0     0.0    0.00    0.00     0.0   \n",
      "3   0.00    0.0   ...       0.0     0.0     0.0    0.00    0.00     0.0   \n",
      "4   0.00    0.0   ...       0.0     0.0     0.0    0.00    0.05     0.0   \n",
      "\n",
      "   disa22  disa23  disa24  disa25  \n",
      "0    0.00    0.02    0.00    0.00  \n",
      "1    0.99    0.98    0.61    0.00  \n",
      "2    0.00    0.00    0.00    0.16  \n",
      "3    0.00    0.00    0.00    0.00  \n",
      "4    0.00    0.01    0.00    0.11  \n",
      "\n",
      "[5 rows x 27 columns]\n"
     ]
    },
    {
     "data": {
      "image/png": "[encoded data removed]",
      "text/plain": [
       "<Figure size 432x288 with 1 Axes>"
      ]
     },
     "metadata": {},
     "output_type": "display_data"
    }
   ],
   "source": [
    "# stata files is a Statistics+Data files, to import stata files, \n",
    "# you can use read_stata() from pandas\n",
    "import pandas as pd\n",
    "import matplotlib.pyplot as plt\n",
    "\n",
    "# save the files into variable\n",
    "stata_file = 'datasets/disarea.dta'\n",
    "\n",
    "# load stata files into a pandas DataFrame \n",
    "df = pd.read_stata(stata_file)\n",
    "\n",
    "# print the head of the DataFrame\n",
    "print(df.head())\n",
    "\n",
    "# plot the histogram of one column of the DataFrame\n",
    "pd.DataFrame.hist(df[['disa10']])\n",
    "plt.xlabel('Extend of disease')\n",
    "plt.ylabel('Number of countries')\n",
    "plt.show()"
   ]
  },
  {
   "cell_type": "markdown",
   "metadata": {},
   "source": [
    "### using h5py to import HDF5 files"
   ]
  },
  {
   "cell_type": "code",
   "execution_count": 7,
   "metadata": {},
   "outputs": [
    {
     "name": "stdout",
     "output_type": "stream",
     "text": [
      "<class 'h5py._hl.files.File'>\n",
      "meta\n",
      "quality\n",
      "strain\n"
     ]
    }
   ],
   "source": [
    "# in this exercise you will importing data from HDF5 file using h5py library. \n",
    "# you will also print out the datatype to confirm you have imported correctly.\n",
    "# you will be also studying the structure of the file\n",
    "# import packages\n",
    "import numpy as np\n",
    "import h5py\n",
    "\n",
    "# assign the filename\n",
    "file = 'datasets/L-L1_LOSC_4_V1-1126259446-32.hdf5'\n",
    "\n",
    "# load the file\n",
    "data = h5py.File(file, 'r')\n",
    "\n",
    "# print the datatype\n",
    "print(type(data))\n",
    "\n",
    "# print the keys of the file\n",
    "for key in data.keys():\n",
    "    print(key)"
   ]
  },
  {
   "cell_type": "markdown",
   "metadata": {},
   "source": [
    "### Extracting data from you HDF5 file"
   ]
  },
  {
   "cell_type": "code",
   "execution_count": 14,
   "metadata": {},
   "outputs": [
    {
     "name": "stdout",
     "output_type": "stream",
     "text": [
      "<HDF5 group \"/strain\" (1 members)>\n",
      "Strain\n",
      "<HDF5 dataset \"Strain\": shape (131072,), type \"<f8\">\n"
     ]
    },
    {
     "data": {
      "image/png": "[encoded data removed]",
      "text/plain": [
       "<Figure size 432x288 with 1 Axes>"
      ]
     },
     "metadata": {},
     "output_type": "display_data"
    }
   ],
   "source": [
    "# in this exercise you will extract some of the LIGO experiment's actual\n",
    "# data from HDF5 file and you will vizualise it.\n",
    "# to do so, you will need to first explore the HDF5 group 'strain'\n",
    "import matplotlib.pyplot as plt\n",
    "\n",
    "# get the HDF5 group\n",
    "group = data['strain']\n",
    "print(group)\n",
    "\n",
    "# check out the keys in the group:\n",
    "for key in group.keys():\n",
    "    print(key)\n",
    "    \n",
    "# assign to the variable strain the values of the time series data\n",
    "strain = data['strain']['Strain'].value\n",
    "print(strain)\n",
    "\n",
    "# set number of time points to sample\n",
    "num_samples = 10000\n",
    "\n",
    "# set time vector, this will create an array ranged from 0.0 to 0.999\n",
    "time = np.arange(0, 1, 1/num_samples)\n",
    "\n",
    "# plot data\n",
    "plt.plot(time, strain[:num_samples])\n",
    "plt.xlabel('GPS Time (s)')\n",
    "plt.ylabel('strain')\n",
    "plt.show()"
   ]
  },
  {
   "cell_type": "markdown",
   "metadata": {},
   "source": [
    "### Loading the .mat files"
   ]
  },
  {
   "cell_type": "code",
   "execution_count": 1,
   "metadata": {},
   "outputs": [
    {
     "name": "stdout",
     "output_type": "stream",
     "text": [
      "<class 'dict'>\n"
     ]
    }
   ],
   "source": [
    "# in this exercise you will figure out how to load a MATLAB file\n",
    "# using scipy.io.loadmat() and you will discover what python datatype it yields\n",
    "import scipy.io\n",
    "\n",
    "# load MATLAB file\n",
    "mat = scipy.io.loadmat('datasets/ja_data2.mat')\n",
    "\n",
    "# print the datatype for mat\n",
    "print(type(mat))"
   ]
  },
  {
   "cell_type": "markdown",
   "metadata": {},
   "source": [
    "### the structure of .mat in Python"
   ]
  },
  {
   "cell_type": "code",
   "execution_count": 12,
   "metadata": {},
   "outputs": [
    {
     "name": "stdout",
     "output_type": "stream",
     "text": [
      "__header__\n",
      "__version__\n",
      "__globals__\n",
      "rfpCyt\n",
      "rfpNuc\n",
      "cfpNuc\n",
      "cfpCyt\n",
      "yfpNuc\n",
      "yfpCyt\n",
      "CYratioCyt\n",
      "<class 'numpy.ndarray'>\n",
      "(200, 137)\n"
     ]
    },
    {
     "data": {
      "image/png": "[encoded data removed]",
      "text/plain": [
       "<Figure size 432x288 with 1 Axes>"
      ]
     },
     "metadata": {},
     "output_type": "display_data"
    }
   ],
   "source": [
    "import numpy as np\n",
    "import matplotlib.pyplot as plt\n",
    "\n",
    "# print the keys of the MATLAB dictionary\n",
    "for key in mat.keys():\n",
    "    print(key)\n",
    "\n",
    "# print the type of the value corresponding to the key 'CYratioCyt'\n",
    "print(type(mat['CYratioCyt']))\n",
    "\n",
    "# print the shape of the value corresponding to the key 'CYrationCyt'\n",
    "print(np.shape(mat['CYratioCyt']))\n",
    "\n",
    "# get only the subset of the array and plot it\n",
    "data = mat['CYratioCyt'][25, 5:]\n",
    "\n",
    "plt.plot(data)\n",
    "plt.xlabel('time (min.)')\n",
    "plt.ylabel('normalized fluorescence (measure of expression)')\n",
    "plt.show()"
   ]
  },
  {
   "cell_type": "code",
   "execution_count": null,
   "metadata": {},
   "outputs": [],
   "source": []
  }
 ],
 "metadata": {
  "kernelspec": {
   "display_name": "Python 3",
   "language": "python",
   "name": "python3"
  },
  "language_info": {
   "codemirror_mode": {
    "name": "ipython",
    "version": 3
   },
   "file_extension": ".py",
   "mimetype": "text/x-python",
   "name": "python",
   "nbconvert_exporter": "python",
   "pygments_lexer": "ipython3",
   "version": "3.6.6"
  }
 },
 "nbformat": 4,
 "nbformat_minor": 2
}
