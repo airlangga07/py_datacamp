{
 "cells": [
  {
   "cell_type": "markdown",
   "metadata": {},
   "source": [
    "### Write a basic list comprehension"
   ]
  },
  {
   "cell_type": "code",
   "execution_count": 1,
   "metadata": {},
   "outputs": [
    {
     "name": "stdout",
     "output_type": "stream",
     "text": [
      "[0, 1, 2, 3, 4, 5, 6, 7, 8, 9]\n"
     ]
    }
   ],
   "source": [
    "# write a list comprehension that produces a list of squares\n",
    "# numbers ranging from 0 to 9\n",
    "squares = [ x * x for x in range(10) ]\n",
    "print(squares)"
   ]
  },
  {
   "cell_type": "markdown",
   "metadata": {},
   "source": [
    "### nested list comprehensions"
   ]
  },
  {
   "cell_type": "code",
   "execution_count": 4,
   "metadata": {},
   "outputs": [
    {
     "name": "stdout",
     "output_type": "stream",
     "text": [
      "[[0, 1, 2, 3, 4], [0, 1, 2, 3, 4], [0, 1, 2, 3, 4], [0, 1, 2, 3, 4], [0, 1, 2, 3, 4]]\n"
     ]
    }
   ],
   "source": [
    "# one ways in which lists can be used are in representing\n",
    "# multi-dimension objects such as matrices.\n",
    "# recreate this matrices\n",
    "# matrix = [[0, 1, 2, 3, 4],\n",
    "#           [0, 1, 2, 3, 4],\n",
    "#           [0, 1, 2, 3, 4],\n",
    "#           [0, 1, 2, 3, 4],\n",
    "#           [0, 1, 2, 3, 4]]\n",
    "# to create the list of lists, you simply have to supply the list\n",
    "# comprehension as the output expression of the overall list.\n",
    "\n",
    "matrix = [ [ col for col in range(5) ] for row in range(5) ]\n",
    "print(matrix)"
   ]
  },
  {
   "cell_type": "markdown",
   "metadata": {},
   "source": [
    "### using conditionals in comprehensions (1)\n",
    "\n",
    "`[` *output expression* `for` *iterator variable* `in` *iterable* `if` *predicate expression* `]`"
   ]
  },
  {
   "cell_type": "code",
   "execution_count": 1,
   "metadata": {},
   "outputs": [
    {
     "name": "stdout",
     "output_type": "stream",
     "text": [
      "['samwise', 'aragorn', 'legolas', 'boromir']\n"
     ]
    }
   ],
   "source": [
    "# to apply a conditional statement to test the iterator variable\n",
    "# by adding an if statement in the optional predicate expression\n",
    "\n",
    "fellowship = ['frodo', 'samwise', 'merry', 'aragorn', \n",
    "              'legolas', 'boromir', 'gimli']\n",
    "\n",
    "# create list comprehensin: new_fellowship\n",
    "new_fellowship = [ member for member in fellowship if len(member) >= 7 ]\n",
    "\n",
    "# print the new list\n",
    "print(new_fellowship)"
   ]
  },
  {
   "cell_type": "markdown",
   "metadata": {},
   "source": [
    "### using conditionals in comprehensions (2)"
   ]
  },
  {
   "cell_type": "code",
   "execution_count": 3,
   "metadata": {},
   "outputs": [
    {
     "name": "stdout",
     "output_type": "stream",
     "text": [
      "['', 'samwise', '', 'aragorn', 'legolas', 'boromir', '']\n"
     ]
    }
   ],
   "source": [
    "# previous example uses if statement in the predicate expression,\n",
    "# now in this exercise, we will use an if-else staetement on the \n",
    "# output expression of the list\n",
    "\n",
    "fellowship = ['frodo', 'samwise', 'merry', 'aragorn', \n",
    "              'legolas', 'boromir', 'gimli']\n",
    "\n",
    "# create list comprehension: new_fellowship\n",
    "disappear_fellowship = [ member if len(member) >= 7 else '' for member in fellowship ]\n",
    "\n",
    "# print out the new list\n",
    "print(disappear_fellowship)"
   ]
  },
  {
   "cell_type": "markdown",
   "metadata": {},
   "source": [
    "### dict comprehensions"
   ]
  },
  {
   "cell_type": "code",
   "execution_count": 4,
   "metadata": {},
   "outputs": [
    {
     "name": "stdout",
     "output_type": "stream",
     "text": [
      "{'frodo': 5, 'samwise': 7, 'merry': 5, 'aragorn': 7, 'legolas': 7, 'boromir': 7, 'gimli': 5}\n"
     ]
    }
   ],
   "source": [
    "# the main difference is you use {} instead of []\n",
    "# and members of the dict are created using a colon :\n",
    "\n",
    "fellowship = ['frodo', 'samwise', 'merry', 'aragorn', \n",
    "              'legolas', 'boromir', 'gimli']\n",
    "\n",
    "# new fellowship\n",
    "new_fellowship = { member: len(member) for member in fellowship }\n",
    "\n",
    "# print the new list\n",
    "print(new_fellowship)"
   ]
  },
  {
   "cell_type": "code",
   "execution_count": null,
   "metadata": {},
   "outputs": [],
   "source": []
  }
 ],
 "metadata": {
  "kernelspec": {
   "display_name": "Python 3",
   "language": "python",
   "name": "python3"
  },
  "language_info": {
   "codemirror_mode": {
    "name": "ipython",
    "version": 3
   },
   "file_extension": ".py",
   "mimetype": "text/x-python",
   "name": "python",
   "nbconvert_exporter": "python",
   "pygments_lexer": "ipython3",
   "version": "3.6.6"
  }
 },
 "nbformat": 4,
 "nbformat_minor": 2
}
