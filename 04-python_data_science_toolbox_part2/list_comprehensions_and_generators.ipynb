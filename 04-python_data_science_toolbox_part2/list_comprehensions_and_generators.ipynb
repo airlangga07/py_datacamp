{
 "cells": [
  {
   "cell_type": "markdown",
   "metadata": {},
   "source": [
    "### Write a basic list comprehension"
   ]
  },
  {
   "cell_type": "code",
   "execution_count": 1,
   "metadata": {},
   "outputs": [
    {
     "name": "stdout",
     "output_type": "stream",
     "text": [
      "[0, 1, 2, 3, 4, 5, 6, 7, 8, 9]\n"
     ]
    }
   ],
   "source": [
    "# write a list comprehension that produces a list of squares\n",
    "# numbers ranging from 0 to 9\n",
    "squares = [ x * x for x in range(10) ]\n",
    "print(squares)"
   ]
  },
  {
   "cell_type": "markdown",
   "metadata": {},
   "source": [
    "### nested list comprehensions"
   ]
  },
  {
   "cell_type": "code",
   "execution_count": 4,
   "metadata": {},
   "outputs": [
    {
     "name": "stdout",
     "output_type": "stream",
     "text": [
      "[[0, 1, 2, 3, 4], [0, 1, 2, 3, 4], [0, 1, 2, 3, 4], [0, 1, 2, 3, 4], [0, 1, 2, 3, 4]]\n"
     ]
    }
   ],
   "source": [
    "# one ways in which lists can be used are in representing\n",
    "# multi-dimension objects such as matrices.\n",
    "# recreate this matrices\n",
    "# matrix = [[0, 1, 2, 3, 4],\n",
    "#           [0, 1, 2, 3, 4],\n",
    "#           [0, 1, 2, 3, 4],\n",
    "#           [0, 1, 2, 3, 4],\n",
    "#           [0, 1, 2, 3, 4]]\n",
    "# to create the list of lists, you simply have to supply the list\n",
    "# comprehension as the output expression of the overall list.\n",
    "\n",
    "matrix = [ [ col for col in range(5) ] for row in range(5) ]\n",
    "print(matrix)"
   ]
  },
  {
   "cell_type": "markdown",
   "metadata": {},
   "source": [
    "### using conditionals in comprehensions (1)\n",
    "\n",
    "`[` *output expression* `for` *iterator variable* `in` *iterable* `if` *predicate expression* `]`"
   ]
  },
  {
   "cell_type": "code",
   "execution_count": 1,
   "metadata": {},
   "outputs": [
    {
     "name": "stdout",
     "output_type": "stream",
     "text": [
      "['samwise', 'aragorn', 'legolas', 'boromir']\n"
     ]
    }
   ],
   "source": [
    "# to apply a conditional statement to test the iterator variable\n",
    "# by adding an if statement in the optional predicate expression\n",
    "\n",
    "fellowship = ['frodo', 'samwise', 'merry', 'aragorn', \n",
    "              'legolas', 'boromir', 'gimli']\n",
    "\n",
    "# create list comprehensin: new_fellowship\n",
    "new_fellowship = [ member for member in fellowship if len(member) >= 7 ]\n",
    "\n",
    "# print the new list\n",
    "print(new_fellowship)"
   ]
  },
  {
   "cell_type": "markdown",
   "metadata": {},
   "source": [
    "### using conditionals in comprehensions (2)"
   ]
  },
  {
   "cell_type": "code",
   "execution_count": 3,
   "metadata": {},
   "outputs": [
    {
     "name": "stdout",
     "output_type": "stream",
     "text": [
      "['', 'samwise', '', 'aragorn', 'legolas', 'boromir', '']\n"
     ]
    }
   ],
   "source": [
    "# previous example uses if statement in the predicate expression,\n",
    "# now in this exercise, we will use an if-else staetement on the \n",
    "# output expression of the list\n",
    "\n",
    "fellowship = ['frodo', 'samwise', 'merry', 'aragorn', \n",
    "              'legolas', 'boromir', 'gimli']\n",
    "\n",
    "# create list comprehension: new_fellowship\n",
    "disappear_fellowship = [ member if len(member) >= 7 else '' for member in fellowship ]\n",
    "\n",
    "# print out the new list\n",
    "print(disappear_fellowship)"
   ]
  },
  {
   "cell_type": "markdown",
   "metadata": {},
   "source": [
    "### dict comprehensions"
   ]
  },
  {
   "cell_type": "code",
   "execution_count": 4,
   "metadata": {},
   "outputs": [
    {
     "name": "stdout",
     "output_type": "stream",
     "text": [
      "{'frodo': 5, 'samwise': 7, 'merry': 5, 'aragorn': 7, 'legolas': 7, 'boromir': 7, 'gimli': 5}\n"
     ]
    }
   ],
   "source": [
    "# the main difference is you use {} instead of []\n",
    "# and members of the dict are created using a colon :\n",
    "\n",
    "fellowship = ['frodo', 'samwise', 'merry', 'aragorn', \n",
    "              'legolas', 'boromir', 'gimli']\n",
    "\n",
    "# new fellowship\n",
    "new_fellowship = { member: len(member) for member in fellowship }\n",
    "\n",
    "# print the new list\n",
    "print(new_fellowship)"
   ]
  },
  {
   "cell_type": "markdown",
   "metadata": {},
   "source": [
    "### write your own generator expressions"
   ]
  },
  {
   "cell_type": "code",
   "execution_count": 3,
   "metadata": {},
   "outputs": [
    {
     "name": "stdout",
     "output_type": "stream",
     "text": [
      "0\n",
      "1\n",
      "2\n",
      "3\n",
      "4\n",
      "5\n",
      "6\n",
      "7\n",
      "8\n",
      "9\n",
      "10\n",
      "11\n",
      "12\n",
      "13\n",
      "14\n",
      "15\n",
      "16\n",
      "17\n",
      "18\n",
      "19\n",
      "20\n",
      "21\n",
      "22\n",
      "23\n",
      "24\n",
      "25\n",
      "26\n",
      "27\n",
      "28\n",
      "29\n",
      "30\n"
     ]
    }
   ],
   "source": [
    "# generator expressions basically have the same syntax as \n",
    "# list comprehensions, except that it uses parenthesis () \n",
    "# instead of []\n",
    "\n",
    "# create a generator object: result\n",
    "result = ( num for num in range(31) )\n",
    "\n",
    "# print the first 5 values\n",
    "print(next(result))\n",
    "print(next(result))\n",
    "print(next(result))\n",
    "print(next(result))\n",
    "\n",
    "# print the rest of the value\n",
    "for x in result:\n",
    "    print(x)"
   ]
  },
  {
   "cell_type": "markdown",
   "metadata": {},
   "source": [
    "### changing the output in generator expressions"
   ]
  },
  {
   "cell_type": "code",
   "execution_count": 4,
   "metadata": {},
   "outputs": [
    {
     "name": "stdout",
     "output_type": "stream",
     "text": [
      "6\n",
      "5\n",
      "5\n",
      "6\n",
      "7\n"
     ]
    }
   ],
   "source": [
    "# adding an output expression of a generator expression.\n",
    "# create a list of strings: lannister\n",
    "lannister = ['cersei', 'jaime', 'tywin', 'tyrion', 'joffrey']\n",
    "\n",
    "# crate a generator object: lengths\n",
    "lengths = ( len(person) for person in lannister )\n",
    "\n",
    "# iterate over and print the values in lengths\n",
    "for value in lengths:\n",
    "    print(value)"
   ]
  },
  {
   "cell_type": "markdown",
   "metadata": {},
   "source": [
    "### build a generator"
   ]
  },
  {
   "cell_type": "code",
   "execution_count": 6,
   "metadata": {},
   "outputs": [
    {
     "name": "stdout",
     "output_type": "stream",
     "text": [
      "6\n",
      "5\n",
      "5\n",
      "6\n",
      "7\n"
     ]
    }
   ],
   "source": [
    "# generator functions are functions that, like generator expressions,\n",
    "# yield a series of values, instead of returning a single value.\n",
    "# a generator functions is defined as you do a regular functions,\n",
    "# but whenever it generates a value, it uses the keyword yield\n",
    "\n",
    "# create a list of strings\n",
    "lannister = ['cersei', 'jaime', 'tywin', 'tyrion', 'joffrey']\n",
    "\n",
    "# define a generator function get_lengths\n",
    "def get_lengths(input_list):\n",
    "    \"\"\"Generator function that yields the\n",
    "    length of the strings in input_list\"\"\"\n",
    "    \n",
    "    # yiled the length of a string\n",
    "    for person in input_list:\n",
    "        yield len(person)\n",
    "\n",
    "# print the values generated by get_lengths()\n",
    "for value in get_lengths(lannister):\n",
    "    print(value)"
   ]
  },
  {
   "cell_type": "code",
   "execution_count": null,
   "metadata": {},
   "outputs": [],
   "source": []
  }
 ],
 "metadata": {
  "kernelspec": {
   "display_name": "Python 3",
   "language": "python",
   "name": "python3"
  },
  "language_info": {
   "codemirror_mode": {
    "name": "ipython",
    "version": 3
   },
   "file_extension": ".py",
   "mimetype": "text/x-python",
   "name": "python",
   "nbconvert_exporter": "python",
   "pygments_lexer": "ipython3",
   "version": "3.6.6"
  }
 },
 "nbformat": 4,
 "nbformat_minor": 2
}
