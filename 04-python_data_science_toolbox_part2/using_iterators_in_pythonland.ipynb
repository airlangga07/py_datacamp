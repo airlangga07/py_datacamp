{
 "cells": [
  {
   "cell_type": "markdown",
   "metadata": {},
   "source": [
    "### iterating over iterables (1)"
   ]
  },
  {
   "cell_type": "code",
   "execution_count": 2,
   "metadata": {},
   "outputs": [
    {
     "name": "stdout",
     "output_type": "stream",
     "text": [
      "jay garrick\n",
      "barry allen\n",
      "wally west\n",
      "bart allen\n",
      "jay garrick\n",
      "barry allen\n",
      "wally west\n",
      "bart allen\n"
     ]
    }
   ],
   "source": [
    "# create a list of strings: list is an iterable\n",
    "flash = ['jay garrick', 'barry allen', 'wally west', 'bart allen']\n",
    "\n",
    "# print each list item in flash using a for loop\n",
    "# you can iterate over iterable object\n",
    "for person in flash:\n",
    "    print(person)\n",
    "\n",
    "# create an iterator object form a list\n",
    "superspeed = iter(flash)\n",
    "\n",
    "# calling next will iterate manually over a iterable\n",
    "print(next(superspeed))\n",
    "print(next(superspeed))\n",
    "print(next(superspeed))\n",
    "print(next(superspeed))"
   ]
  },
  {
   "cell_type": "markdown",
   "metadata": {},
   "source": [
    "### iterating over iterables (2): range() functions"
   ]
  },
  {
   "cell_type": "code",
   "execution_count": 6,
   "metadata": {},
   "outputs": [
    {
     "name": "stdout",
     "output_type": "stream",
     "text": [
      "0\n",
      "1\n",
      "2\n",
      "0\n",
      "1\n",
      "2\n",
      "0\n",
      "1\n",
      "2\n",
      "3\n",
      "4\n"
     ]
    }
   ],
   "source": [
    "# not all iterables are actual lists. range() function creates a range object with an iterator\n",
    "# that will keep producing values until it reaches the limit, it does not creates an actual lists\n",
    "# to save up the memory\n",
    "\n",
    "# create an iterator for range(3)\n",
    "small_value = iter(range(3))\n",
    "\n",
    "# print out each individual value\n",
    "print(next(small_value))\n",
    "print(next(small_value))\n",
    "print(next(small_value))\n",
    "\n",
    "# iterate over the range \n",
    "for num in range(3):\n",
    "    print(num)\n",
    "    \n",
    "# we can create a large array which is not possible with array if we want to iterate over\n",
    "googol = iter(range(10 ** 100))\n",
    "\n",
    "print(next(googol))\n",
    "print(next(googol))\n",
    "print(next(googol))\n",
    "print(next(googol))\n",
    "print(next(googol))"
   ]
  },
  {
   "cell_type": "markdown",
   "metadata": {},
   "source": [
    "### iterators as function arguments"
   ]
  },
  {
   "cell_type": "code",
   "execution_count": 8,
   "metadata": {},
   "outputs": [
    {
     "name": "stdout",
     "output_type": "stream",
     "text": [
      "range(10, 21)\n",
      "[10, 11, 12, 13, 14, 15, 16, 17, 18, 19, 20]\n",
      "165\n"
     ]
    }
   ],
   "source": [
    "# there are also functions that take interators as arguments.\n",
    "# for example list() and num() func returns a list and sum of elements.\n",
    "# you can use these functions by passing an iterator from range() and then printing the results \n",
    "\n",
    "# create a range object\n",
    "values = range(10, 21)\n",
    "\n",
    "# print the range object\n",
    "print(values)\n",
    "\n",
    "# create a list of integers based off the iterator\n",
    "values_list = list(values)\n",
    "print(values_list)\n",
    "\n",
    "# get the sum of values\n",
    "values_sum = sum(values)\n",
    "print(values_sum)"
   ]
  },
  {
   "cell_type": "code",
   "execution_count": null,
   "metadata": {},
   "outputs": [],
   "source": []
  }
 ],
 "metadata": {
  "kernelspec": {
   "display_name": "Python 3",
   "language": "python",
   "name": "python3"
  },
  "language_info": {
   "codemirror_mode": {
    "name": "ipython",
    "version": 3
   },
   "file_extension": ".py",
   "mimetype": "text/x-python",
   "name": "python",
   "nbconvert_exporter": "python",
   "pygments_lexer": "ipython3",
   "version": "3.6.6"
  }
 },
 "nbformat": 4,
 "nbformat_minor": 2
}
