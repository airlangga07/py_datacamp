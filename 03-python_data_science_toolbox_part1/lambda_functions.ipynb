{
 "cells": [
  {
   "cell_type": "markdown",
   "metadata": {},
   "source": [
    "# Lambda functions"
   ]
  },
  {
   "cell_type": "markdown",
   "metadata": {},
   "source": [
    "\n",
    "## Basic lambda function: writing a lambda function you already know"
   ]
  },
  {
   "cell_type": "code",
   "execution_count": 1,
   "metadata": {},
   "outputs": [
    {
     "name": "stdout",
     "output_type": "stream",
     "text": [
      "heyheyheyheyhey\n"
     ]
    }
   ],
   "source": [
    "# Define echo_word as a lambda function\n",
    "echo_word = lambda word1, echo: word1 * echo\n",
    "\n",
    "# call echo_word\n",
    "result = echo_word('hey', 5)\n",
    "\n",
    "# print out the result\n",
    "print(result)"
   ]
  },
  {
   "cell_type": "markdown",
   "metadata": {},
   "source": [
    "## map and lambda functions"
   ]
  },
  {
   "cell_type": "code",
   "execution_count": 3,
   "metadata": {},
   "outputs": [
    {
     "name": "stdout",
     "output_type": "stream",
     "text": [
      "<map object at 0x1076d2128>\n",
      "['protego!!!', 'accio!!!', 'expecto patronum!!!', 'legilimens!!!']\n"
     ]
    }
   ],
   "source": [
    "# the best use case for lambda functions is when you want to \n",
    "# simplify the functionalities and anonymously embedded within \n",
    "# larger expressions, and it is not stored in the environment\n",
    "# for example a map function takes two args: a function and a list\n",
    "\n",
    "# create a list of strings\n",
    "spells = ['protego', 'accio', 'expecto patronum', 'legilimens']\n",
    "\n",
    "# use map() to modify each of the element in the list\n",
    "shout_spells = map(lambda x: x + '!!!', spells)\n",
    "print(shout_spells)\n",
    "\n",
    "# convert shout_spells to a list because shout_spells returns\n",
    "# a map object not a list\n",
    "shout_spells_list = list(shout_spells)\n",
    "\n",
    "# print it\n",
    "print(shout_spells_list)"
   ]
  },
  {
   "cell_type": "markdown",
   "metadata": {},
   "source": [
    "## filter and lambda functions"
   ]
  },
  {
   "cell_type": "code",
   "execution_count": 4,
   "metadata": {},
   "outputs": [
    {
     "name": "stdout",
     "output_type": "stream",
     "text": [
      "['samwise', 'aragorn', 'boromir', 'legolas', 'gandalf']\n"
     ]
    }
   ],
   "source": [
    "# like map, filter can be use with lambda function. \n",
    "# it will select the element if the condition is true.\n",
    "fellowship = ['frodo', 'samwise', 'merry', 'pippin', 'aragorn',\n",
    "             'boromir', 'legolas', 'gimli', 'gandalf']\n",
    "\n",
    "# selects the names with length more than 6\n",
    "result = filter(lambda x: len(x) > 6, fellowship)\n",
    "\n",
    "# convert the object to a list\n",
    "result_list = list(result)\n",
    "\n",
    "# print out the result\n",
    "print(result_list)"
   ]
  },
  {
   "cell_type": "markdown",
   "metadata": {},
   "source": [
    "## reduce and lambda functions"
   ]
  },
  {
   "cell_type": "code",
   "execution_count": 5,
   "metadata": {},
   "outputs": [
    {
     "name": "stdout",
     "output_type": "stream",
     "text": [
      "robbsansaaryabrandonrickon\n"
     ]
    }
   ],
   "source": [
    "# unlike map and filter, reduce returns only a single value as a result\n",
    "# reduce available through functools module\n",
    "from functools import reduce\n",
    "\n",
    "# create a list of strings\n",
    "stark = ['robb', 'sansa', 'arya', 'brandon', 'rickon']\n",
    "\n",
    "# use reduce() to apply a lambda function to concatenates \n",
    "# all of the strings\n",
    "result = reduce(lambda item1, item2: item1 + item2, stark)\n",
    "\n",
    "# print out the result\n",
    "print(result)"
   ]
  },
  {
   "cell_type": "code",
   "execution_count": null,
   "metadata": {},
   "outputs": [],
   "source": []
  }
 ],
 "metadata": {
  "kernelspec": {
   "display_name": "Python 3",
   "language": "python",
   "name": "python3"
  },
  "language_info": {
   "codemirror_mode": {
    "name": "ipython",
    "version": 3
   },
   "file_extension": ".py",
   "mimetype": "text/x-python",
   "name": "python",
   "nbconvert_exporter": "python",
   "pygments_lexer": "ipython3",
   "version": "3.6.6"
  }
 },
 "nbformat": 4,
 "nbformat_minor": 2
}
