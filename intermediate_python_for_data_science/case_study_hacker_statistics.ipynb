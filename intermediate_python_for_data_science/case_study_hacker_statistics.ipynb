{
 "cells": [
  {
   "cell_type": "markdown",
   "metadata": {},
   "source": [
    "# Hacker Statistics: Empire State Building game\n",
    "\n",
    "## Introduction\n",
    "\n",
    "Imagine this situation:\n",
    "You are walking up the empire state building, and you're playing with a game of friend. For 100th times, you throw a dice, if:\n",
    "- 1 or 2: you go one step down (-1)\n",
    "- 3, 4 or 5, you go one step up (+2)\n",
    "- 6, throw another dice, you will walk up based off the resulting number\n",
    "- can't step below 0, but have 0.1% of falling down, which means you will be starting from step 0 again.\n",
    "\n",
    "with this in mind, you bet with your friend that you'll reach 60 steps high. What is the chance for you to winning this bet?"
   ]
  },
  {
   "cell_type": "markdown",
   "metadata": {},
   "source": [
    "## Simulate rolling the dice"
   ]
  },
  {
   "cell_type": "code",
   "execution_count": 2,
   "metadata": {},
   "outputs": [
    {
     "name": "stdout",
     "output_type": "stream",
     "text": [
      "6\n",
      "3\n"
     ]
    }
   ],
   "source": [
    "# numpy has the built in random function from the random sub-module\n",
    "import numpy as np\n",
    "\n",
    "# passing the seed to start the random, but with predictability:\n",
    "# it generates a random number, but it will generate the same random number on every sequence, if you specify the seed.\n",
    "np.random.seed(123)\n",
    "\n",
    "# use randint() will generate the number for you\n",
    "# there are two arguments: first arg --> starting, second --> ending but not including\n",
    "print(np.random.randint(1, 7)) # this will generate a number from 1 to 6\n",
    "print(np.random.randint(1, 7))"
   ]
  },
  {
   "cell_type": "code",
   "execution_count": 7,
   "metadata": {},
   "outputs": [
    {
     "name": "stdout",
     "output_type": "stream",
     "text": [
      "dice, step 6 53\n"
     ]
    }
   ],
   "source": [
    "# in the game, your next move depends on the resulting number that you throw. we can use if - elif - else \n",
    "# lets create the game and assume that youre on step 50\n",
    "np.random.seed(123)\n",
    "step = 50\n",
    "\n",
    "dice = np.random.randint(1, 7)\n",
    "\n",
    "# apply the game rule\n",
    "if dice <= 2:\n",
    "    step = step - 1\n",
    "elif dice <= 5:\n",
    "    step = step + 1\n",
    "else:\n",
    "    step = step + np.random.randint(1, 7)\n",
    "\n",
    "# see the resulting steps youre on right now\n",
    "print('dice, step', dice, step)"
   ]
  },
  {
   "cell_type": "markdown",
   "metadata": {},
   "source": [
    "## Random Walk"
   ]
  },
  {
   "cell_type": "code",
   "execution_count": 10,
   "metadata": {},
   "outputs": [
    {
     "name": "stdout",
     "output_type": "stream",
     "text": [
      "[0, 3, 4, 5, 4, 5, 6, 7, 6, 5, 4, 3, 2, 1, 0, 0, 1, 6, 5, 4, 5, 4, 5, 6, 7, 8, 9, 8, 9, 8, 9, 10, 11, 12, 11, 15, 16, 15, 16, 15, 16, 17, 18, 19, 20, 21, 22, 25, 26, 27, 28, 33, 34, 38, 39, 38, 39, 40, 39, 40, 41, 43, 44, 45, 44, 43, 44, 45, 44, 43, 44, 45, 47, 46, 45, 46, 45, 46, 47, 48, 50, 49, 50, 51, 52, 53, 54, 53, 52, 53, 52, 53, 54, 53, 56, 57, 58, 59, 58, 59, 60]\n"
     ]
    }
   ],
   "source": [
    "# initialze the seed\n",
    "np.random.seed(123)\n",
    "\n",
    "# initialize the random_walk\n",
    "random_walk = [0]\n",
    "\n",
    "# simulate throwing the dice 100 times\n",
    "for x in range(100):\n",
    "    # get the last step number\n",
    "    step = random_walk[-1]\n",
    "    \n",
    "    # simulate rolling the dice\n",
    "    dice = np.random.randint(1, 7)\n",
    "    \n",
    "    # apply the rules to determine the next step\n",
    "    if dice <= 2:\n",
    "        # when you run without max() there is a chance that it could go below 0 (-1, -2, ...)\n",
    "        step = max(0, step - 1)\n",
    "    elif dice <= 5:\n",
    "        step = step + 1\n",
    "    else:\n",
    "        step = step + np.random.randint(1, 7)\n",
    "    \n",
    "    # the resulting step will be pushed to the random_walk\n",
    "    random_walk.append(step)\n",
    "\n",
    "print(random_walk)"
   ]
  },
  {
   "cell_type": "code",
   "execution_count": null,
   "metadata": {},
   "outputs": [],
   "source": []
  }
 ],
 "metadata": {
  "kernelspec": {
   "display_name": "Python 3",
   "language": "python",
   "name": "python3"
  },
  "language_info": {
   "codemirror_mode": {
    "name": "ipython",
    "version": 3
   },
   "file_extension": ".py",
   "mimetype": "text/x-python",
   "name": "python",
   "nbconvert_exporter": "python",
   "pygments_lexer": "ipython3",
   "version": "3.6.6"
  }
 },
 "nbformat": 4,
 "nbformat_minor": 2
}
